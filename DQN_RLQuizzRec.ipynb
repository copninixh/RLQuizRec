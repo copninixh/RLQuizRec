{
  "nbformat": 4,
  "nbformat_minor": 0,
  "metadata": {
    "colab": {
      "provenance": [],
      "authorship_tag": "ABX9TyOflX11dWaXIxxSz5TYlqDH",
      "include_colab_link": true
    },
    "kernelspec": {
      "name": "python3",
      "display_name": "Python 3"
    },
    "language_info": {
      "name": "python"
    }
  },
  "cells": [
    {
      "cell_type": "markdown",
      "metadata": {
        "id": "view-in-github",
        "colab_type": "text"
      },
      "source": [
        "<a href=\"https://colab.research.google.com/github/copninixh/RLQuizRec/blob/main/DQN_RLQuizzRec.ipynb\" target=\"_parent\"><img src=\"https://colab.research.google.com/assets/colab-badge.svg\" alt=\"Open In Colab\"/></a>"
      ]
    },
    {
      "cell_type": "markdown",
      "source": [
        "# **Deep Q-learning RLQuizzRec**"
      ],
      "metadata": {
        "id": "7ltqTpbGlt82"
      }
    },
    {
      "cell_type": "markdown",
      "source": [
        "## 00 Installation"
      ],
      "metadata": {
        "id": "5OoytaoFl2xl"
      }
    },
    {
      "cell_type": "code",
      "execution_count": 2,
      "metadata": {
        "id": "FbnN3q3l9pgH"
      },
      "outputs": [],
      "source": [
        "import numpy as np\n",
        "import random\n",
        "import torch\n",
        "import torch.nn as nn\n",
        "import torch.optim as optim\n",
        "from collections import deque, namedtuple"
      ]
    },
    {
      "cell_type": "code",
      "source": [
        "topics = ['variables', 'loops', 'list', 'function', 'condition']\n",
        "levels = ['easy', 'medium', 'hard']\n",
        "num_topics = len(topics)\n",
        "num_quizz = 20\n",
        "state_size = num_topics\n",
        "action_size = num_quizz\n",
        "episode = 200"
      ],
      "metadata": {
        "id": "PZ6B-v6iCIi0"
      },
      "execution_count": 26,
      "outputs": []
    },
    {
      "cell_type": "code",
      "source": [
        "quizz_mock = []\n",
        "\n",
        "def get_random_subset(lst, min_size=1, max_size=None):\n",
        "    if max_size is None:\n",
        "        max_size = len(lst)\n",
        "\n",
        "    subset_size = random.randint(min_size, max_size)\n",
        "    return random.sample(lst, subset_size)\n",
        "\n",
        "def random_qizz_mock(topics):\n",
        "  quizz_mock.append({'id': len(quizz_mock), 'topics': get_random_subset(topics, min_size=1, max_size=len(topics)), 'difficulty': random.sample(levels,1)[0]})"
      ],
      "metadata": {
        "id": "Al36moJMmlq-"
      },
      "execution_count": 27,
      "outputs": []
    },
    {
      "cell_type": "code",
      "source": [
        "for i in range(10):\n",
        "  random_qizz_mock(topics)\n",
        "\n",
        "quizz_mock"
      ],
      "metadata": {
        "colab": {
          "base_uri": "https://localhost:8080/"
        },
        "id": "YfYASsq7lsLF",
        "outputId": "7d6a9107-01e2-4d9d-f14c-0ab056858908"
      },
      "execution_count": 28,
      "outputs": [
        {
          "output_type": "execute_result",
          "data": {
            "text/plain": [
              "[{'id': 0, 'topics': ['function', 'loops', 'list'], 'difficulty': 'hard'},\n",
              " {'id': 1,\n",
              "  'topics': ['function', 'condition', 'variables', 'list'],\n",
              "  'difficulty': 'hard'},\n",
              " {'id': 2,\n",
              "  'topics': ['function', 'variables', 'condition'],\n",
              "  'difficulty': 'medium'},\n",
              " {'id': 3, 'topics': ['condition'], 'difficulty': 'hard'},\n",
              " {'id': 4, 'topics': ['variables', 'condition'], 'difficulty': 'easy'},\n",
              " {'id': 5,\n",
              "  'topics': ['list', 'loops', 'condition', 'function', 'variables'],\n",
              "  'difficulty': 'easy'},\n",
              " {'id': 6,\n",
              "  'topics': ['condition', 'loops', 'variables', 'list'],\n",
              "  'difficulty': 'medium'},\n",
              " {'id': 7, 'topics': ['function'], 'difficulty': 'easy'},\n",
              " {'id': 8, 'topics': ['loops'], 'difficulty': 'easy'},\n",
              " {'id': 9,\n",
              "  'topics': ['condition', 'variables', 'list', 'function', 'loops'],\n",
              "  'difficulty': 'medium'}]"
            ]
          },
          "metadata": {},
          "execution_count": 28
        }
      ]
    },
    {
      "cell_type": "code",
      "source": [],
      "metadata": {
        "id": "XupDBWoBnhtS"
      },
      "execution_count": 8,
      "outputs": []
    }
  ]
}